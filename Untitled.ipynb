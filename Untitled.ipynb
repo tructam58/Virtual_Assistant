{
 "cells": [
  {
   "cell_type": "code",
   "execution_count": 1,
   "id": "c94a1fb1",
   "metadata": {},
   "outputs": [],
   "source": [
    "import os\n",
    "import subprocess\n",
    "import time\n",
    "from turtle import st\n",
    "import speech_recognition as sr\n",
    "import wikipedia\n",
    "import webbrowser\n",
    "import re\n",
    "import playsound\n",
    "#from pygame import mixer\n",
    "from gtts import gTTS\n",
    "import selenium\n",
    "from selenium import webdriver\n",
    "from selenium.webdriver.common.keys import Keys\n",
    "from selenium.webdriver.common.by import By\n",
    "from selenium.webdriver.chrome.service import Service\n",
    "from selenium.webdriver.chrome.options import Options\n",
    "from webdriver_manager.chrome import ChromeDriverManager\n",
    "from time import strftime\n"
   ]
  },
  {
   "cell_type": "code",
   "execution_count": 2,
   "id": "4070e8aa",
   "metadata": {},
   "outputs": [
    {
     "name": "stdout",
     "output_type": "stream",
     "text": [
      "\n"
     ]
    },
    {
     "name": "stderr",
     "output_type": "stream",
     "text": [
      "[WDM] - ====== WebDriver manager ======\n",
      "[WDM] - Current google-chrome version is 101.0.4951\n",
      "[WDM] - Get LATEST chromedriver version for 101.0.4951 google-chrome\n",
      "[WDM] - Driver [C:\\Users\\TamPham\\.wdm\\drivers\\chromedriver\\win32\\101.0.4951.41\\chromedriver.exe] found in cache\n"
     ]
    }
   ],
   "source": [
    "LANGUAGE = 'vi'\n",
    "path = ChromeDriverManager().install()\n",
    "ser = Service(path)\n",
    "op = webdriver.ChromeOptions()\n",
    "\n",
    "titles = []\n",
    "links = []\n",
    "\n",
    "return_keywords = \"\"\n",
    "driver = \"\""
   ]
  },
  {
   "cell_type": "code",
   "execution_count": 3,
   "id": "2efc10b0",
   "metadata": {},
   "outputs": [],
   "source": [
    "def speak(text):\n",
    "    print(\"Darling: {}\".format(text)) #truyen vao text de doc len\n",
    "    tts = gTTS(text=text, lang=LANGUAGE, slow = False)\n",
    "    tts.save(\"sound.mp3\")\n",
    "    playsound.playsound(\"sound.mp3\", True)\n",
    "    os.remove(\"sound.mp3\")\n"
   ]
  },
  {
   "cell_type": "code",
   "execution_count": 4,
   "id": "e18b12d5",
   "metadata": {},
   "outputs": [],
   "source": [
    "def get_voice():\n",
    "    r = sr.Recognizer()\n",
    "    with sr.Microphone() as source:\n",
    "        print(\"Me: \", end='')\n",
    "        audio = r.listen(source, phrase_time_limit=5)\n",
    "        try:\n",
    "            text = r.recognize_google(audio, language=\"vi-VN\")\n",
    "            print(text)\n",
    "            return text\n",
    "        except:\n",
    "            print(\"...\")\n",
    "            return 0\n"
   ]
  },
  {
   "cell_type": "code",
   "execution_count": 5,
   "id": "5cdfa5d1",
   "metadata": {},
   "outputs": [],
   "source": [
    "def stop():\n",
    "    speak(\"Hẹn gặp lại bạn nhé!\")\n"
   ]
  },
  {
   "cell_type": "code",
   "execution_count": 6,
   "id": "1247fb2e",
   "metadata": {},
   "outputs": [],
   "source": [
    "def get_text():\n",
    "    for i in range(5):\n",
    "        text = get_voice()\n",
    "        if text:\n",
    "            return text.lower()\n",
    "        elif i < 4:\n",
    "            speak(\"Tớ không nghe rõ. Bạn nói lại nhé?\")\n",
    "    time.sleep(1)\n",
    "    stop()\n",
    "    return 0\n",
    "    \n",
    "   \n"
   ]
  },
  {
   "cell_type": "code",
   "execution_count": 7,
   "id": "6e873795",
   "metadata": {},
   "outputs": [],
   "source": [
    "def talk(name):\n",
    "    day_time = int(strftime('%H'))\n",
    "    if day_time < 12:\n",
    "        speak(\"Chào buổi sáng {}. Chúc bạn ngày mới tốt lành!\".format(name))\n",
    "    elif day_time < 18:\n",
    "        speak(\"Chào buổi chiều {}!\".format(name))\n",
    "    else:\n",
    "        speak(\"Chào buổi tối {}!\".format(name))\n",
    "    time.sleep(1)\n",
    "    speak(\"Bạn có khỏe không ?\")\n",
    "    answer = get_voice()\n",
    "    if ans:\n",
    "        if \"có\" in answer:\n",
    "            speak(\"Thật là tốt!\")\n",
    "        else:\n",
    "            speak(\"Vậy à, bạn nên nghỉ ngơi đi!\")\n"
   ]
  },
  {
   "cell_type": "code",
   "execution_count": 8,
   "id": "e0e0acb8",
   "metadata": {},
   "outputs": [],
   "source": [
    "def open_website(text):\n",
    "    regex = re.search ('mở (.+)', text)\n",
    "    if regex:\n",
    "        domain = regex.group(1)\n",
    "        url = 'https://www.' + domain\n",
    "        webbrowser.open(url)\n",
    "        speak(\"Trang web của bạn đã được mở lên!\")\n",
    "        return True\n",
    "    else:\n",
    "        return False"
   ]
  },
  {
   "cell_type": "code",
   "execution_count": 9,
   "id": "999c6995",
   "metadata": {},
   "outputs": [],
   "source": [
    "def clears():\n",
    "    links.clear()\n",
    "    titles.clear()\n",
    "    "
   ]
  },
  {
   "cell_type": "code",
   "execution_count": 10,
   "id": "94e7c76c",
   "metadata": {},
   "outputs": [],
   "source": [
    "def google_search(text):\n",
    "    clears()\n",
    "    search_for = text.split(\"kiếm\", 1)[1]\n",
    "    speak(\"được thôi\")\n",
    "    global driver\n",
    "    driver = webdriver.Chrome(service= ser, options=op)\n",
    "    driver.get(\"http://www.google.com\")\n",
    "    driver.maximize_window()\n",
    "    query = driver.find_element(By.XPATH, \"//input[@name='q']\")\n",
    "    query.send_keys(str(search_for))\n",
    "    query.send_keys(Keys.RETURN)\n",
    "    elements = driver.find_elements(By.CSS_SELECTOR, \"#rso>div\")\n",
    "    text = \"\"\n",
    "    for el in elements:\n",
    "        try:\n",
    "            titles.append(el.find_element(By.CSS_SELECTOR,'a>h3').text)\n",
    "            links.append(el.find_element(By.CSS_SELECTOR, 'a').get_attribute('href'))\n",
    "        except Exception:\n",
    "            pass\n",
    "    for i in range(3):\n",
    "        text += titles[i] + ' -- '\n",
    "#     speak(\"Tiêu đề:\")\n",
    "    speak(text)\n",
    "    \n",
    " "
   ]
  },
  {
   "cell_type": "code",
   "execution_count": 11,
   "id": "e0bd0de4",
   "metadata": {},
   "outputs": [],
   "source": [
    "# #Đọc full text bằng selenium\n",
    "def open_link(driver,url):\n",
    "    driver.get(url)"
   ]
  },
  {
   "cell_type": "code",
   "execution_count": 12,
   "id": "c309eea8",
   "metadata": {},
   "outputs": [],
   "source": [
    "def read_news():\n",
    "    text = driver.find_element(By.XPATH, \"html\").text\n",
    "    arr = text.split('\\n')\n",
    "    for i in range(len(arr)):\n",
    "        speak(arr[i])\n",
    "        if i>=10 and i%10 ==0:\n",
    "            speak(\"Bạn có muốn tớ đọc tiếp không?\")\n",
    "            text = get_text()\n",
    "            if \"không\" in text:\n",
    "                break"
   ]
  },
  {
   "cell_type": "code",
   "execution_count": 13,
   "id": "4044feca",
   "metadata": {},
   "outputs": [],
   "source": [
    "def call():    \n",
    "    global return_keywords\n",
    "    speak(\"Xin chào, bạn tên là gì?\")\n",
    "    name = get_text()\n",
    "    if name:\n",
    "        speak(\"Bạn cần giúp gì ạ?\")\n",
    "        while True:\n",
    "            text = get_text()\n",
    "            if \"liên kết\" in text:\n",
    "                if \"một\" in text:\n",
    "                    open_link(driver, links[0])\n",
    "                elif \"hai\" in text:\n",
    "                    open_link(driver, links[1])\n",
    "                else:\n",
    "                    open_link(driver, links[2])\n",
    "            elif \"trở về\" in text:     \n",
    "                driver.back()\n",
    "            elif \"mở\" in text:\n",
    "                if \"tìm kiếm\":\n",
    "                    return_keywords = text\n",
    "                    google_search(return_keywords)\n",
    "                else:\n",
    "                    open_website(text)\n",
    "            elif \"đọc\" in text:\n",
    "                read_news()\n",
    "            elif \"dừng\" in text or \"thôi\" in text or \"stop\" in text or \"đóng\" in text:\n",
    "                if driver == '':\n",
    "                    stop()\n",
    "                    break\n",
    "                else:\n",
    "                    stop()\n",
    "                    driver.close()\n",
    "                    break\n",
    "            else:\n",
    "                speak(\"Tớ chưa hiểu.\")\n"
   ]
  },
  {
   "cell_type": "code",
   "execution_count": null,
   "id": "90ed3914",
   "metadata": {
    "scrolled": true
   },
   "outputs": [
    {
     "name": "stdout",
     "output_type": "stream",
     "text": [
      "Darling: Xin chào, bạn tên là gì?\n",
      "Me: ăn\n",
      "Darling: Bạn cần giúp gì ạ?\n",
      "Me: mở và Tìm kiếm Sơn Tùng\n",
      "Darling: được thôi\n",
      "Darling: Sơn Tùng M-TP Official - YouTube -- Sơn Tùng M-TP – Wikipedia tiếng Việt -- M-TP - Facebook -- \n",
      "Me: liên kết 1\n",
      "Me: ...\n",
      "Darling: Tớ không nghe rõ. Bạn nói lại nhé?\n",
      "Me: đọc\n",
      "Darling: Đăng nhập\n",
      "Darling: Bạn quên tài khoản ư?\n",
      "Darling: M-TP \n",
      "Darling: 14 triệu người theo dõi • 4 đang theo dõi\n",
      "Darling: M-TP\n",
      "Darling: Giới thiệu\n",
      "Darling: Sơn Tùng M-TP Official\n",
      "Darling: www.mtpentertainment.com\n",
      "Darling: Trang · Nhạc sỹ/Ban nhạc\n",
      "Darling: 092 798 79 19\n",
      "Darling: booking@mtpentertainment.com\n",
      "Darling: Bạn có muốn tớ đọc tiếp không?\n",
      "Me: không\n",
      "Me: ...\n",
      "Darling: Tớ không nghe rõ. Bạn nói lại nhé?\n",
      "Me: Tại vì lúc mà em cho nó đọc\n",
      "Darling: Đăng nhập\n",
      "Darling: Bạn quên tài khoản ư?\n",
      "Darling: M-TP \n",
      "Darling: 14 triệu người theo dõi • 4 đang theo dõi\n",
      "Darling: Xem thêm\n",
      "Darling: Bài viết\n",
      "Darling: Giới thiệu\n",
      "Darling: Ảnh\n",
      "Darling: Video\n",
      "Darling: Đang theo dõi\n",
      "Darling: Giới thiệu\n",
      "Darling: Bạn có muốn tớ đọc tiếp không?\n",
      "Me: không\n",
      "Me: Trở Về\n",
      "Me: ...\n",
      "Darling: Tớ không nghe rõ. Bạn nói lại nhé?\n",
      "Me: ...\n",
      "Darling: Tớ không nghe rõ. Bạn nói lại nhé?\n",
      "Me: liên kết 2\n",
      "Me: ...\n",
      "Darling: Tớ không nghe rõ. Bạn nói lại nhé?\n",
      "Me: ...\n",
      "Darling: Tớ không nghe rõ. Bạn nói lại nhé?\n",
      "Me: Trở Về\n",
      "Me: ...\n",
      "Darling: Tớ không nghe rõ. Bạn nói lại nhé?\n",
      "Me: ...\n",
      "Darling: Tớ không nghe rõ. Bạn nói lại nhé?\n",
      "Me: tìm cái khác đi\n",
      "Darling: Tớ chưa hiểu.\n",
      "Me: mở và Tìm kiếm xe\n",
      "Darling: được thôi\n",
      "Darling: Ôtô Xe máy - Thông tin siêu xe, xế hộp, tư vấn mua bán xe -- Ô tô xe máy - Diễn đàn thông tin oto, xe máy - Vietnamnet -- XE 360 - Tin tức xe máy, ô tô, xe hơi, xe độ, siêu xe - Zing -- \n",
      "Me: tin tức\n",
      "Darling: Tớ chưa hiểu.\n",
      "Me: "
     ]
    }
   ],
   "source": [
    "call()"
   ]
  },
  {
   "cell_type": "code",
   "execution_count": null,
   "id": "4146435d",
   "metadata": {},
   "outputs": [],
   "source": []
  },
  {
   "cell_type": "code",
   "execution_count": null,
   "id": "3a0ea4bc",
   "metadata": {},
   "outputs": [],
   "source": []
  },
  {
   "cell_type": "code",
   "execution_count": null,
   "id": "8b76a230",
   "metadata": {},
   "outputs": [],
   "source": []
  },
  {
   "cell_type": "code",
   "execution_count": null,
   "id": "84919400",
   "metadata": {},
   "outputs": [],
   "source": []
  },
  {
   "cell_type": "code",
   "execution_count": null,
   "id": "ddc3b0e2",
   "metadata": {},
   "outputs": [],
   "source": []
  },
  {
   "cell_type": "code",
   "execution_count": null,
   "id": "b72ce712",
   "metadata": {},
   "outputs": [],
   "source": []
  }
 ],
 "metadata": {
  "kernelspec": {
   "display_name": "Python 3 (ipykernel)",
   "language": "python",
   "name": "python3"
  },
  "language_info": {
   "codemirror_mode": {
    "name": "ipython",
    "version": 3
   },
   "file_extension": ".py",
   "mimetype": "text/x-python",
   "name": "python",
   "nbconvert_exporter": "python",
   "pygments_lexer": "ipython3",
   "version": "3.8.8"
  }
 },
 "nbformat": 4,
 "nbformat_minor": 5
}
